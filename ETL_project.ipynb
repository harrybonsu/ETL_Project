{
 "cells": [
  {
   "cell_type": "code",
   "execution_count": 1,
   "metadata": {},
   "outputs": [],
   "source": [
    "# Dependencies\n",
    "\n",
    "import requests\n",
    "from config import api_key\n",
    "import pandas as pd\n",
    "import datetime as dt\n",
    "from datetime import datetime as ds\n",
    "import json\n",
    "from pprint import pprint\n",
    "import sqlalchemy\n",
    "from sqlalchemy import create_engine\n",
    "import matplotlib.pyplot as plt"
   ]
  },
  {
   "cell_type": "markdown",
   "metadata": {},
   "source": [
    "### Getting Inflation data for US by reading HTML"
   ]
  },
  {
   "cell_type": "code",
   "execution_count": 2,
   "metadata": {},
   "outputs": [],
   "source": [
    "# Define the url to read the html\n",
    "\n",
    "url = 'https://www.in2013dollars.com/us/inflation/1930?amount=1'"
   ]
  },
  {
   "cell_type": "code",
   "execution_count": 3,
   "metadata": {
    "scrolled": true
   },
   "outputs": [
    {
     "data": {
      "text/plain": [
       "[                            0               1\n",
       " 0     Cumulative price change       1,534.75%\n",
       " 1      Average inflation rate           3.12%\n",
       " 2  Converted amount ($1 base)          $16.35\n",
       " 3  Price difference ($1 base)          $15.35\n",
       " 4                 CPI in 1930          16.700\n",
       " 5                 CPI in 2021         273.003\n",
       " 6           Inflation in 1930          -2.34%\n",
       " 7           Inflation in 2021           5.37%\n",
       " 8                  $1 in 1930  $16.35 in 2021,\n",
       "     Year Dollar Value Inflation Rate\n",
       " 0   1930        $1.00         -2.34%\n",
       " 1   1931        $0.91         -8.98%\n",
       " 2   1932        $0.82         -9.87%\n",
       " 3   1933        $0.78         -5.11%\n",
       " 4   1934        $0.80          3.08%\n",
       " ..   ...          ...            ...\n",
       " 87  2017       $14.68          2.13%\n",
       " 88  2018       $15.04          2.49%\n",
       " 89  2019       $15.31          1.76%\n",
       " 90  2020       $15.50          1.23%\n",
       " 91  2021       $16.35         5.48%*\n",
       " \n",
       " [92 rows x 3 columns],\n",
       "                  Initial value              Equivalent value\n",
       " 0            $1 dollar in 1930          $16.35 dollars today\n",
       " 1           $5 dollars in 1930          $81.74 dollars today\n",
       " 2          $10 dollars in 1930         $163.47 dollars today\n",
       " 3          $50 dollars in 1930         $817.37 dollars today\n",
       " 4         $100 dollars in 1930       $1,634.75 dollars today\n",
       " 5        $500  dollars in 1930       $8,173.74 dollars today\n",
       " 6       $1,000 dollars in 1930      $16,347.49 dollars today\n",
       " 7       $5,000 dollars in 1930      $81,737.43 dollars today\n",
       " 8      $10,000 dollars in 1930     $163,474.85 dollars today\n",
       " 9      $50,000 dollars in 1930     $817,374.25 dollars today\n",
       " 10    $100,000 dollars in 1930   $1,634,748.50 dollars today\n",
       " 11    $500,000 dollars in 1930   $8,173,742.51 dollars today\n",
       " 12  $1,000,000 dollars in 1930  $16,347,485.03 dollars today,\n",
       "                       Category  Avg Inflation (%)  Total Inflation (%)  \\\n",
       " 0           Food and beverages               3.88              3082.64   \n",
       " 1                      Housing               4.16              3964.65   \n",
       " 2                      Apparel               1.78               398.34   \n",
       " 3               Transportation               3.25              1742.00   \n",
       " 4                 Medical care               4.69              6357.14   \n",
       " 5                   Recreation               1.12               175.01   \n",
       " 6  Education and communication               1.82               418.29   \n",
       " 7     Other goods and services               4.93              7908.16   \n",
       " \n",
       "    $1 in 1930 → 2021  \n",
       " 0              31.83  \n",
       " 1              40.65  \n",
       " 2               4.98  \n",
       " 3              18.42  \n",
       " 4              64.57  \n",
       " 5               2.75  \n",
       " 6               5.18  \n",
       " 7              80.08  ,\n",
       "                Unnamed: 0 Original Amount Final Amount       Change\n",
       " 0                 Nominal              $1    $5,064.60  506,360.18%\n",
       " 1  RealInflation Adjusted              $1      $309.81   30,880.92%,\n",
       "                             0               1\n",
       " 0     Cumulative price change       1,534.75%\n",
       " 1      Average inflation rate           3.12%\n",
       " 2  Converted amount ($1 base)          $16.35\n",
       " 3  Price difference ($1 base)          $15.35\n",
       " 4                 CPI in 1930          16.700\n",
       " 5                 CPI in 2021         273.003\n",
       " 6           Inflation in 1930          -2.34%\n",
       " 7           Inflation in 2021           5.37%\n",
       " 8                  $1 in 1930  $16.35 in 2021]"
      ]
     },
     "execution_count": 3,
     "metadata": {},
     "output_type": "execute_result"
    }
   ],
   "source": [
    "# Read the web page and print results\n",
    "\n",
    "cpi_inflation = pd.read_html(url)\n",
    "cpi_inflation"
   ]
  },
  {
   "cell_type": "code",
   "execution_count": 4,
   "metadata": {},
   "outputs": [
    {
     "data": {
      "text/html": [
       "<div>\n",
       "<style scoped>\n",
       "    .dataframe tbody tr th:only-of-type {\n",
       "        vertical-align: middle;\n",
       "    }\n",
       "\n",
       "    .dataframe tbody tr th {\n",
       "        vertical-align: top;\n",
       "    }\n",
       "\n",
       "    .dataframe thead th {\n",
       "        text-align: right;\n",
       "    }\n",
       "</style>\n",
       "<table border=\"1\" class=\"dataframe\">\n",
       "  <thead>\n",
       "    <tr style=\"text-align: right;\">\n",
       "      <th></th>\n",
       "      <th>Year</th>\n",
       "      <th>Dollar Value</th>\n",
       "      <th>Inflation Rate</th>\n",
       "    </tr>\n",
       "  </thead>\n",
       "  <tbody>\n",
       "    <tr>\n",
       "      <th>0</th>\n",
       "      <td>1930</td>\n",
       "      <td>$1.00</td>\n",
       "      <td>-2.34%</td>\n",
       "    </tr>\n",
       "    <tr>\n",
       "      <th>1</th>\n",
       "      <td>1931</td>\n",
       "      <td>$0.91</td>\n",
       "      <td>-8.98%</td>\n",
       "    </tr>\n",
       "    <tr>\n",
       "      <th>2</th>\n",
       "      <td>1932</td>\n",
       "      <td>$0.82</td>\n",
       "      <td>-9.87%</td>\n",
       "    </tr>\n",
       "    <tr>\n",
       "      <th>3</th>\n",
       "      <td>1933</td>\n",
       "      <td>$0.78</td>\n",
       "      <td>-5.11%</td>\n",
       "    </tr>\n",
       "    <tr>\n",
       "      <th>4</th>\n",
       "      <td>1934</td>\n",
       "      <td>$0.80</td>\n",
       "      <td>3.08%</td>\n",
       "    </tr>\n",
       "    <tr>\n",
       "      <th>...</th>\n",
       "      <td>...</td>\n",
       "      <td>...</td>\n",
       "      <td>...</td>\n",
       "    </tr>\n",
       "    <tr>\n",
       "      <th>87</th>\n",
       "      <td>2017</td>\n",
       "      <td>$14.68</td>\n",
       "      <td>2.13%</td>\n",
       "    </tr>\n",
       "    <tr>\n",
       "      <th>88</th>\n",
       "      <td>2018</td>\n",
       "      <td>$15.04</td>\n",
       "      <td>2.49%</td>\n",
       "    </tr>\n",
       "    <tr>\n",
       "      <th>89</th>\n",
       "      <td>2019</td>\n",
       "      <td>$15.31</td>\n",
       "      <td>1.76%</td>\n",
       "    </tr>\n",
       "    <tr>\n",
       "      <th>90</th>\n",
       "      <td>2020</td>\n",
       "      <td>$15.50</td>\n",
       "      <td>1.23%</td>\n",
       "    </tr>\n",
       "    <tr>\n",
       "      <th>91</th>\n",
       "      <td>2021</td>\n",
       "      <td>$16.35</td>\n",
       "      <td>5.48%*</td>\n",
       "    </tr>\n",
       "  </tbody>\n",
       "</table>\n",
       "<p>92 rows × 3 columns</p>\n",
       "</div>"
      ],
      "text/plain": [
       "    Year Dollar Value Inflation Rate\n",
       "0   1930        $1.00         -2.34%\n",
       "1   1931        $0.91         -8.98%\n",
       "2   1932        $0.82         -9.87%\n",
       "3   1933        $0.78         -5.11%\n",
       "4   1934        $0.80          3.08%\n",
       "..   ...          ...            ...\n",
       "87  2017       $14.68          2.13%\n",
       "88  2018       $15.04          2.49%\n",
       "89  2019       $15.31          1.76%\n",
       "90  2020       $15.50          1.23%\n",
       "91  2021       $16.35         5.48%*\n",
       "\n",
       "[92 rows x 3 columns]"
      ]
     },
     "execution_count": 4,
     "metadata": {},
     "output_type": "execute_result"
    }
   ],
   "source": [
    "# Select the required table for CPI and Inflation from the page and build the required dataframe\n",
    "\n",
    "cpi_inflation_df = cpi_inflation[1]\n",
    "cpi_inflation_df "
   ]
  },
  {
   "cell_type": "code",
   "execution_count": 5,
   "metadata": {},
   "outputs": [
    {
     "data": {
      "text/html": [
       "<div>\n",
       "<style scoped>\n",
       "    .dataframe tbody tr th:only-of-type {\n",
       "        vertical-align: middle;\n",
       "    }\n",
       "\n",
       "    .dataframe tbody tr th {\n",
       "        vertical-align: top;\n",
       "    }\n",
       "\n",
       "    .dataframe thead th {\n",
       "        text-align: right;\n",
       "    }\n",
       "</style>\n",
       "<table border=\"1\" class=\"dataframe\">\n",
       "  <thead>\n",
       "    <tr style=\"text-align: right;\">\n",
       "      <th></th>\n",
       "      <th>Year</th>\n",
       "      <th>Dollar Value</th>\n",
       "      <th>Inflation Rate</th>\n",
       "    </tr>\n",
       "  </thead>\n",
       "  <tbody>\n",
       "    <tr>\n",
       "      <th>0</th>\n",
       "      <td>1930.0</td>\n",
       "      <td>1.00</td>\n",
       "      <td>-2.34</td>\n",
       "    </tr>\n",
       "    <tr>\n",
       "      <th>1</th>\n",
       "      <td>1931.0</td>\n",
       "      <td>0.91</td>\n",
       "      <td>-8.98</td>\n",
       "    </tr>\n",
       "    <tr>\n",
       "      <th>2</th>\n",
       "      <td>1932.0</td>\n",
       "      <td>0.82</td>\n",
       "      <td>-9.87</td>\n",
       "    </tr>\n",
       "    <tr>\n",
       "      <th>3</th>\n",
       "      <td>1933.0</td>\n",
       "      <td>0.78</td>\n",
       "      <td>-5.11</td>\n",
       "    </tr>\n",
       "    <tr>\n",
       "      <th>4</th>\n",
       "      <td>1934.0</td>\n",
       "      <td>0.80</td>\n",
       "      <td>3.08</td>\n",
       "    </tr>\n",
       "    <tr>\n",
       "      <th>...</th>\n",
       "      <td>...</td>\n",
       "      <td>...</td>\n",
       "      <td>...</td>\n",
       "    </tr>\n",
       "    <tr>\n",
       "      <th>87</th>\n",
       "      <td>2017.0</td>\n",
       "      <td>14.68</td>\n",
       "      <td>2.13</td>\n",
       "    </tr>\n",
       "    <tr>\n",
       "      <th>88</th>\n",
       "      <td>2018.0</td>\n",
       "      <td>15.04</td>\n",
       "      <td>2.49</td>\n",
       "    </tr>\n",
       "    <tr>\n",
       "      <th>89</th>\n",
       "      <td>2019.0</td>\n",
       "      <td>15.31</td>\n",
       "      <td>1.76</td>\n",
       "    </tr>\n",
       "    <tr>\n",
       "      <th>90</th>\n",
       "      <td>2020.0</td>\n",
       "      <td>15.50</td>\n",
       "      <td>1.23</td>\n",
       "    </tr>\n",
       "    <tr>\n",
       "      <th>91</th>\n",
       "      <td>2021.0</td>\n",
       "      <td>16.35</td>\n",
       "      <td>5.48</td>\n",
       "    </tr>\n",
       "  </tbody>\n",
       "</table>\n",
       "<p>92 rows × 3 columns</p>\n",
       "</div>"
      ],
      "text/plain": [
       "      Year  Dollar Value  Inflation Rate\n",
       "0   1930.0          1.00           -2.34\n",
       "1   1931.0          0.91           -8.98\n",
       "2   1932.0          0.82           -9.87\n",
       "3   1933.0          0.78           -5.11\n",
       "4   1934.0          0.80            3.08\n",
       "..     ...           ...             ...\n",
       "87  2017.0         14.68            2.13\n",
       "88  2018.0         15.04            2.49\n",
       "89  2019.0         15.31            1.76\n",
       "90  2020.0         15.50            1.23\n",
       "91  2021.0         16.35            5.48\n",
       "\n",
       "[92 rows x 3 columns]"
      ]
     },
     "execution_count": 5,
     "metadata": {},
     "output_type": "execute_result"
    }
   ],
   "source": [
    "cpi_inflation_df = cpi_inflation_df.replace('\\$','',regex=True)\n",
    "cpi_inflation_df = cpi_inflation_df.replace('\\%','',regex=True)\n",
    "cpi_inflation_df = cpi_inflation_df.replace('\\*','',regex=True)\n",
    "cpi_inflation_df = cpi_inflation_df.astype(float)\n",
    "cpi_inflation_df"
   ]
  },
  {
   "cell_type": "code",
   "execution_count": 6,
   "metadata": {},
   "outputs": [
    {
     "data": {
      "text/html": [
       "<div>\n",
       "<style scoped>\n",
       "    .dataframe tbody tr th:only-of-type {\n",
       "        vertical-align: middle;\n",
       "    }\n",
       "\n",
       "    .dataframe tbody tr th {\n",
       "        vertical-align: top;\n",
       "    }\n",
       "\n",
       "    .dataframe thead th {\n",
       "        text-align: right;\n",
       "    }\n",
       "</style>\n",
       "<table border=\"1\" class=\"dataframe\">\n",
       "  <thead>\n",
       "    <tr style=\"text-align: right;\">\n",
       "      <th></th>\n",
       "      <th>date</th>\n",
       "      <th>dollar_value</th>\n",
       "      <th>inflation_rate</th>\n",
       "    </tr>\n",
       "  </thead>\n",
       "  <tbody>\n",
       "    <tr>\n",
       "      <th>0</th>\n",
       "      <td>1930.0</td>\n",
       "      <td>1.00</td>\n",
       "      <td>-2.34</td>\n",
       "    </tr>\n",
       "    <tr>\n",
       "      <th>1</th>\n",
       "      <td>1931.0</td>\n",
       "      <td>0.91</td>\n",
       "      <td>-8.98</td>\n",
       "    </tr>\n",
       "    <tr>\n",
       "      <th>2</th>\n",
       "      <td>1932.0</td>\n",
       "      <td>0.82</td>\n",
       "      <td>-9.87</td>\n",
       "    </tr>\n",
       "    <tr>\n",
       "      <th>3</th>\n",
       "      <td>1933.0</td>\n",
       "      <td>0.78</td>\n",
       "      <td>-5.11</td>\n",
       "    </tr>\n",
       "    <tr>\n",
       "      <th>4</th>\n",
       "      <td>1934.0</td>\n",
       "      <td>0.80</td>\n",
       "      <td>3.08</td>\n",
       "    </tr>\n",
       "    <tr>\n",
       "      <th>...</th>\n",
       "      <td>...</td>\n",
       "      <td>...</td>\n",
       "      <td>...</td>\n",
       "    </tr>\n",
       "    <tr>\n",
       "      <th>87</th>\n",
       "      <td>2017.0</td>\n",
       "      <td>14.68</td>\n",
       "      <td>2.13</td>\n",
       "    </tr>\n",
       "    <tr>\n",
       "      <th>88</th>\n",
       "      <td>2018.0</td>\n",
       "      <td>15.04</td>\n",
       "      <td>2.49</td>\n",
       "    </tr>\n",
       "    <tr>\n",
       "      <th>89</th>\n",
       "      <td>2019.0</td>\n",
       "      <td>15.31</td>\n",
       "      <td>1.76</td>\n",
       "    </tr>\n",
       "    <tr>\n",
       "      <th>90</th>\n",
       "      <td>2020.0</td>\n",
       "      <td>15.50</td>\n",
       "      <td>1.23</td>\n",
       "    </tr>\n",
       "    <tr>\n",
       "      <th>91</th>\n",
       "      <td>2021.0</td>\n",
       "      <td>16.35</td>\n",
       "      <td>5.48</td>\n",
       "    </tr>\n",
       "  </tbody>\n",
       "</table>\n",
       "<p>92 rows × 3 columns</p>\n",
       "</div>"
      ],
      "text/plain": [
       "      date  dollar_value  inflation_rate\n",
       "0   1930.0          1.00           -2.34\n",
       "1   1931.0          0.91           -8.98\n",
       "2   1932.0          0.82           -9.87\n",
       "3   1933.0          0.78           -5.11\n",
       "4   1934.0          0.80            3.08\n",
       "..     ...           ...             ...\n",
       "87  2017.0         14.68            2.13\n",
       "88  2018.0         15.04            2.49\n",
       "89  2019.0         15.31            1.76\n",
       "90  2020.0         15.50            1.23\n",
       "91  2021.0         16.35            5.48\n",
       "\n",
       "[92 rows x 3 columns]"
      ]
     },
     "execution_count": 6,
     "metadata": {},
     "output_type": "execute_result"
    }
   ],
   "source": [
    "# Rename Columns\n",
    "\n",
    "cpi_inflation_df.columns = ['date', 'dollar_value', 'inflation_rate']\n",
    "cpi_inflation_df"
   ]
  },
  {
   "cell_type": "markdown",
   "metadata": {},
   "source": [
    "### Getting GDP data from St. Louis Fed. using an API call"
   ]
  },
  {
   "cell_type": "code",
   "execution_count": 7,
   "metadata": {},
   "outputs": [],
   "source": [
    "#https://alfred.stlouisfed.org/series/downloaddata?seid=MABMM301USA657S\n",
    "\n",
    "url = 'https://api.stlouisfed.org/fred/series/observations?series_id=A191RL1A225NBEA'\n",
    "realtime_start = '1958-01-01'\n",
    "realtime_end = '2021-01-31'"
   ]
  },
  {
   "cell_type": "code",
   "execution_count": 8,
   "metadata": {},
   "outputs": [],
   "source": [
    "# Build query URL\n",
    "\n",
    "query_url = url + \"&realtime_start=\" + realtime_start + \"&realtime_end=\" + realtime_end + \"&api_key=\" + api_key + \"&file_type=json\""
   ]
  },
  {
   "cell_type": "code",
   "execution_count": null,
   "metadata": {
    "scrolled": true
   },
   "outputs": [],
   "source": [
    "# Print the results of the query in a json format\n",
    "\n",
    "response = requests.get(query_url).json()\n",
    "pprint(response)"
   ]
  },
  {
   "cell_type": "code",
   "execution_count": null,
   "metadata": {},
   "outputs": [],
   "source": [
    "# Select the observations from the response\n",
    "\n",
    "pprint(response['observations'])"
   ]
  },
  {
   "cell_type": "code",
   "execution_count": null,
   "metadata": {
    "scrolled": true
   },
   "outputs": [],
   "source": [
    "# Dump the results into pandas dataframe\n",
    "\n",
    "gdp_df = pd.DataFrame(response['observations'])\n",
    "gdp_df"
   ]
  },
  {
   "cell_type": "code",
   "execution_count": null,
   "metadata": {},
   "outputs": [],
   "source": [
    "# Select the required columns 'date' and 'value' for the analysis\n",
    "\n",
    "gdp_df = gdp_df[['date', 'value']]\n",
    "gdp_df"
   ]
  },
  {
   "cell_type": "code",
   "execution_count": null,
   "metadata": {},
   "outputs": [],
   "source": [
    "# Rename Columns\n",
    "\n",
    "gdp_df.columns = ['date', 'gdp_rate']\n",
    "gdp_df"
   ]
  },
  {
   "cell_type": "code",
   "execution_count": null,
   "metadata": {},
   "outputs": [],
   "source": [
    "# Change the dtype of the Year column from 'object' to 'datetime' to be able to select the year portion of date\n",
    "\n",
    "gdp_df['date'] = [ds.strptime(x,'%Y-%m-%d') for x in gdp_df['date']]"
   ]
  },
  {
   "cell_type": "code",
   "execution_count": null,
   "metadata": {},
   "outputs": [],
   "source": [
    "# Select just the years from the dates\n",
    "\n",
    "gdp_df['date'] = gdp_df['date'].dt.year\n",
    "gdp_df"
   ]
  },
  {
   "cell_type": "code",
   "execution_count": null,
   "metadata": {},
   "outputs": [],
   "source": [
    "# Drop the duplicated year values\n",
    "\n",
    "gdp_df = gdp_df.drop_duplicates(keep='last', subset=['date'])\n",
    "gdp_df.astype(float)\n",
    "gdp_df"
   ]
  },
  {
   "cell_type": "markdown",
   "metadata": {},
   "source": [
    "### Reading xls to obtain Money Stock (M3) in the US"
   ]
  },
  {
   "cell_type": "code",
   "execution_count": null,
   "metadata": {},
   "outputs": [],
   "source": [
    "# Read United States values M3 values from 1958 into a dataframe\n",
    "\n",
    "m3_data = pd.read_excel('us_m3.xls')\n",
    "m3_data"
   ]
  },
  {
   "cell_type": "code",
   "execution_count": null,
   "metadata": {},
   "outputs": [],
   "source": [
    "# Rename the columns\n",
    "\n",
    "m3_data.columns = ['date', 'm3_rate']\n",
    "m3_data"
   ]
  },
  {
   "cell_type": "code",
   "execution_count": null,
   "metadata": {},
   "outputs": [],
   "source": [
    "#Change date format to year to match the CPI_Inflation table\n",
    "\n",
    "m3_data['date'] = m3_data['date'].dt.year\n",
    "m3_data = m3_data.round(decimals=2)\n",
    "m3_data\n"
   ]
  },
  {
   "cell_type": "markdown",
   "metadata": {},
   "source": [
    "### Merge Tables"
   ]
  },
  {
   "cell_type": "code",
   "execution_count": null,
   "metadata": {},
   "outputs": [],
   "source": [
    "new_df = pd.merge(cpi_inflation_df, gdp_df, on='date', how='outer')\n",
    "new_df"
   ]
  },
  {
   "cell_type": "code",
   "execution_count": null,
   "metadata": {},
   "outputs": [],
   "source": [
    "combined_df = pd.merge(new_df, m3_data, on='date', how='outer')\n",
    "combined_df"
   ]
  },
  {
   "cell_type": "code",
   "execution_count": null,
   "metadata": {},
   "outputs": [],
   "source": [
    "## Drop Nulls\n",
    "clean_df = combined_df.dropna(how='any')\n",
    "clean_df"
   ]
  },
  {
   "cell_type": "code",
   "execution_count": null,
   "metadata": {},
   "outputs": [],
   "source": [
    "##plt.plot(clean_df)\n",
    "clean_df.dtypes"
   ]
  },
  {
   "cell_type": "markdown",
   "metadata": {},
   "source": [
    "### Create database connection and load the individual tables into database"
   ]
  },
  {
   "cell_type": "code",
   "execution_count": null,
   "metadata": {},
   "outputs": [],
   "source": [
    "connection_string = \"postgres:Bias1981@localhost:5432/economic_indicators\"\n",
    "engine = create_engine(f'postgresql://{connection_string}')"
   ]
  },
  {
   "cell_type": "code",
   "execution_count": null,
   "metadata": {},
   "outputs": [],
   "source": [
    "cpi_inflation_df.to_sql(name='cpi_inflation', con=engine, if_exists='replace', index=False)"
   ]
  },
  {
   "cell_type": "code",
   "execution_count": null,
   "metadata": {},
   "outputs": [],
   "source": [
    "gdp_df.to_sql(name='gdp', con=engine, if_exists='replace', index=False)"
   ]
  },
  {
   "cell_type": "code",
   "execution_count": null,
   "metadata": {},
   "outputs": [],
   "source": [
    "m3_data.to_sql(name='m3', con=engine, if_exists='replace', index=False)"
   ]
  },
  {
   "cell_type": "code",
   "execution_count": null,
   "metadata": {},
   "outputs": [],
   "source": [
    "# Confirm tables exist in database\n",
    "engine.table_names()"
   ]
  },
  {
   "cell_type": "markdown",
   "metadata": {},
   "source": [
    "### Query the tables"
   ]
  },
  {
   "cell_type": "code",
   "execution_count": null,
   "metadata": {},
   "outputs": [],
   "source": [
    "pd.read_sql_query('select * from cpi_inflation', con=engine).head()"
   ]
  },
  {
   "cell_type": "code",
   "execution_count": null,
   "metadata": {},
   "outputs": [],
   "source": [
    "pd.read_sql_query('select * from gdp', con=engine).head()"
   ]
  },
  {
   "cell_type": "code",
   "execution_count": null,
   "metadata": {},
   "outputs": [],
   "source": [
    "pd.read_sql_query('select * from m3', con=engine).head()"
   ]
  }
 ],
 "metadata": {
  "kernelspec": {
   "display_name": "Python 3",
   "language": "python",
   "name": "python3"
  },
  "language_info": {
   "codemirror_mode": {
    "name": "ipython",
    "version": 3
   },
   "file_extension": ".py",
   "mimetype": "text/x-python",
   "name": "python",
   "nbconvert_exporter": "python",
   "pygments_lexer": "ipython3",
   "version": "3.8.5"
  }
 },
 "nbformat": 4,
 "nbformat_minor": 4
}
