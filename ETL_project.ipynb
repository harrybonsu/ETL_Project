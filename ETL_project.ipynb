{
 "cells": [
  {
   "cell_type": "code",
   "execution_count": 1,
   "metadata": {},
   "outputs": [],
   "source": [
    "# Dependencies\n",
    "import requests\n",
    "from config import api_key\n",
    "import pandas as pd\n",
    "from splinter import Browser\n",
    "from bs4 import BeautifulSoup\n",
    "from webdriver_manager.chrome import ChromeDriverManager\n"
   ]
  },
  {
   "cell_type": "code",
   "execution_count": 2,
   "metadata": {},
   "outputs": [],
   "source": [
    "url = 'https://www.in2013dollars.com/us/inflation/1930?amount=1'"
   ]
  },
  {
   "cell_type": "code",
   "execution_count": 3,
   "metadata": {
    "scrolled": true
   },
   "outputs": [
    {
     "data": {
      "text/plain": [
       "[                            0               1\n",
       " 0     Cumulative price change       1,486.09%\n",
       " 1      Average inflation rate           3.08%\n",
       " 2  Converted amount ($1 base)          $15.86\n",
       " 3  Price difference ($1 base)          $14.86\n",
       " 4                 CPI in 1930          16.700\n",
       " 5                 CPI in 2021         264.877\n",
       " 6           Inflation in 1930          -2.34%\n",
       " 7           Inflation in 2021           2.62%\n",
       " 8                  $1 in 1930  $15.86 in 2021,\n",
       "     Year Dollar Value Inflation Rate\n",
       " 0   1930        $1.00         -2.34%\n",
       " 1   1931        $0.91         -8.98%\n",
       " 2   1932        $0.82         -9.87%\n",
       " 3   1933        $0.78         -5.11%\n",
       " 4   1934        $0.80          3.08%\n",
       " ..   ...          ...            ...\n",
       " 87  2017       $14.68          2.13%\n",
       " 88  2018       $15.04          2.49%\n",
       " 89  2019       $15.31          1.76%\n",
       " 90  2020       $15.50          1.23%\n",
       " 91  2021       $15.86         2.34%*\n",
       " \n",
       " [92 rows x 3 columns],\n",
       "                  Initial value              Equivalent value\n",
       " 0            $1 dollar in 1930          $15.86 dollars today\n",
       " 1           $5 dollars in 1930          $79.30 dollars today\n",
       " 2          $10 dollars in 1930         $158.61 dollars today\n",
       " 3          $50 dollars in 1930         $793.04 dollars today\n",
       " 4         $100 dollars in 1930      $1,586.09  dollars today\n",
       " 5         $500 dollars in 1930       $7,930.45 dollars today\n",
       " 6       $1,000 dollars in 1930      $15,860.90 dollars today\n",
       " 7       $5,000 dollars in 1930      $79,304.49 dollars today\n",
       " 8      $10,000 dollars in 1930     $158,608.98 dollars today\n",
       " 9      $50,000 dollars in 1930     $793,044.91 dollars today\n",
       " 10    $100,000 dollars in 1930   $1,586,089.82 dollars today\n",
       " 11    $500,000 dollars in 1930   $7,930,449.10 dollars today\n",
       " 12  $1,000,000 dollars in 1930  $15,860,898.20 dollars today,\n",
       "                       Category  Avg Inflation (%)  Total Inflation (%)  \\\n",
       " 0           Food and beverages               3.86              3040.67   \n",
       " 1                      Housing               4.14              3907.93   \n",
       " 2                      Apparel               1.78               396.58   \n",
       " 3               Transportation               3.18              1630.91   \n",
       " 4                 Medical care               4.69              6355.37   \n",
       " 5                   Recreation               1.08               165.99   \n",
       " 6  Education and communication               1.81               412.62   \n",
       " 7     Other goods and services               4.92              7839.62   \n",
       " \n",
       "    $1 in 1930 → 2021  \n",
       " 0              31.41  \n",
       " 1              40.08  \n",
       " 2               4.97  \n",
       " 3              17.31  \n",
       " 4              64.55  \n",
       " 5               2.66  \n",
       " 6               5.13  \n",
       " 7              79.40  ,\n",
       "                Unnamed: 0 Original Amount Final Amount       Change\n",
       " 0                 Nominal              $1    $5,064.60  506,360.18%\n",
       " 1  RealInflation Adjusted              $1      $319.31   31,831.37%,\n",
       "                             0               1\n",
       " 0     Cumulative price change       1,486.09%\n",
       " 1      Average inflation rate           3.08%\n",
       " 2  Converted amount ($1 base)          $15.86\n",
       " 3  Price difference ($1 base)          $14.86\n",
       " 4                 CPI in 1930          16.700\n",
       " 5                 CPI in 2021         264.877\n",
       " 6           Inflation in 1930          -2.34%\n",
       " 7           Inflation in 2021           2.62%\n",
       " 8                  $1 in 1930  $15.86 in 2021]"
      ]
     },
     "execution_count": 3,
     "metadata": {},
     "output_type": "execute_result"
    }
   ],
   "source": [
    "cpi_inflation = pd.read_html(url)\n",
    "cpi_inflation"
   ]
  },
  {
   "cell_type": "code",
   "execution_count": 4,
   "metadata": {},
   "outputs": [
    {
     "data": {
      "text/html": [
       "<div>\n",
       "<style scoped>\n",
       "    .dataframe tbody tr th:only-of-type {\n",
       "        vertical-align: middle;\n",
       "    }\n",
       "\n",
       "    .dataframe tbody tr th {\n",
       "        vertical-align: top;\n",
       "    }\n",
       "\n",
       "    .dataframe thead th {\n",
       "        text-align: right;\n",
       "    }\n",
       "</style>\n",
       "<table border=\"1\" class=\"dataframe\">\n",
       "  <thead>\n",
       "    <tr style=\"text-align: right;\">\n",
       "      <th></th>\n",
       "      <th>Year</th>\n",
       "      <th>Dollar Value</th>\n",
       "      <th>Inflation Rate</th>\n",
       "    </tr>\n",
       "  </thead>\n",
       "  <tbody>\n",
       "    <tr>\n",
       "      <th>0</th>\n",
       "      <td>1930</td>\n",
       "      <td>$1.00</td>\n",
       "      <td>-2.34%</td>\n",
       "    </tr>\n",
       "    <tr>\n",
       "      <th>1</th>\n",
       "      <td>1931</td>\n",
       "      <td>$0.91</td>\n",
       "      <td>-8.98%</td>\n",
       "    </tr>\n",
       "    <tr>\n",
       "      <th>2</th>\n",
       "      <td>1932</td>\n",
       "      <td>$0.82</td>\n",
       "      <td>-9.87%</td>\n",
       "    </tr>\n",
       "    <tr>\n",
       "      <th>3</th>\n",
       "      <td>1933</td>\n",
       "      <td>$0.78</td>\n",
       "      <td>-5.11%</td>\n",
       "    </tr>\n",
       "    <tr>\n",
       "      <th>4</th>\n",
       "      <td>1934</td>\n",
       "      <td>$0.80</td>\n",
       "      <td>3.08%</td>\n",
       "    </tr>\n",
       "    <tr>\n",
       "      <th>...</th>\n",
       "      <td>...</td>\n",
       "      <td>...</td>\n",
       "      <td>...</td>\n",
       "    </tr>\n",
       "    <tr>\n",
       "      <th>87</th>\n",
       "      <td>2017</td>\n",
       "      <td>$14.68</td>\n",
       "      <td>2.13%</td>\n",
       "    </tr>\n",
       "    <tr>\n",
       "      <th>88</th>\n",
       "      <td>2018</td>\n",
       "      <td>$15.04</td>\n",
       "      <td>2.49%</td>\n",
       "    </tr>\n",
       "    <tr>\n",
       "      <th>89</th>\n",
       "      <td>2019</td>\n",
       "      <td>$15.31</td>\n",
       "      <td>1.76%</td>\n",
       "    </tr>\n",
       "    <tr>\n",
       "      <th>90</th>\n",
       "      <td>2020</td>\n",
       "      <td>$15.50</td>\n",
       "      <td>1.23%</td>\n",
       "    </tr>\n",
       "    <tr>\n",
       "      <th>91</th>\n",
       "      <td>2021</td>\n",
       "      <td>$15.86</td>\n",
       "      <td>2.34%*</td>\n",
       "    </tr>\n",
       "  </tbody>\n",
       "</table>\n",
       "<p>92 rows × 3 columns</p>\n",
       "</div>"
      ],
      "text/plain": [
       "    Year Dollar Value Inflation Rate\n",
       "0   1930        $1.00         -2.34%\n",
       "1   1931        $0.91         -8.98%\n",
       "2   1932        $0.82         -9.87%\n",
       "3   1933        $0.78         -5.11%\n",
       "4   1934        $0.80          3.08%\n",
       "..   ...          ...            ...\n",
       "87  2017       $14.68          2.13%\n",
       "88  2018       $15.04          2.49%\n",
       "89  2019       $15.31          1.76%\n",
       "90  2020       $15.50          1.23%\n",
       "91  2021       $15.86         2.34%*\n",
       "\n",
       "[92 rows x 3 columns]"
      ]
     },
     "execution_count": 4,
     "metadata": {},
     "output_type": "execute_result"
    }
   ],
   "source": [
    "cpi_inflation_df = cpi_inflation[1]\n",
    "cpi_inflation_df"
   ]
  },
  {
   "cell_type": "code",
   "execution_count": null,
   "metadata": {},
   "outputs": [],
   "source": [
    "url = 'https://alfred.stlouisfed.org/series/downloaddata?seid=MABMM301USA657S'\n",
    "realtime_start = '1990-01-01'\n",
    "realtime_end = '2020-12-31'"
   ]
  },
  {
   "cell_type": "code",
   "execution_count": null,
   "metadata": {},
   "outputs": [],
   "source": [
    "# https://api.stlouisfed.org/fred/series/observations?series_id=GNPCA\n",
    "# &realtime_start=1776-07-04&realtime_end=9999-12-31&api_key=abcdefghijklmnopqrstuvwxyz123456\n",
    "# Build query URL\n",
    "query_url = url + \"&realtime_start=\" + realtime_start + \"&realtime_end=\" + realtime_end + \"&api_key=\" + api_key + \"&file_type=json\"\n",
    "query_url"
   ]
  },
  {
   "cell_type": "code",
   "execution_count": null,
   "metadata": {},
   "outputs": [],
   "source": [
    "response = requests.get(query_url)\n",
    "response"
   ]
  },
  {
   "cell_type": "code",
   "execution_count": null,
   "metadata": {},
   "outputs": [],
   "source": [
    "# Setup splinter\n",
    "executable_path = {'executable_path': ChromeDriverManager().install()}\n",
    "browser = Browser('chrome', **executable_path, headless=False)"
   ]
  },
  {
   "cell_type": "code",
   "execution_count": null,
   "metadata": {},
   "outputs": [],
   "source": [
    "url = 'https://alfred.stlouisfed.org/series/downloaddata?seid=MABMM301USA657S&realtime_start=1990-01-01&realtime_end=2020-12-31&api_key=d282d9b79098a2dd1a31f63af87c22ab&file_type=json'\n",
    "browser.visit(url)"
   ]
  },
  {
   "cell_type": "code",
   "execution_count": null,
   "metadata": {},
   "outputs": [],
   "source": [
    "for x in range(1, 2):\n",
    "\n",
    "    html = browser.html\n",
    "    soup = BeautifulSoup(html, 'html.parser')\n",
    "\n",
    "    tables = soup.find('button', id = 'form_download_data')\n",
    "\n",
    "    for table in tables:\n",
    "        print(table)\n",
    "\n",
    "    "
   ]
  },
  {
   "cell_type": "code",
   "execution_count": null,
   "metadata": {},
   "outputs": [],
   "source": [
    "m3_data = pd.read_excel('US-M3.xls')\n",
    "m3_data"
   ]
  },
  {
   "cell_type": "code",
   "execution_count": null,
   "metadata": {},
   "outputs": [],
   "source": []
  }
 ],
 "metadata": {
  "kernelspec": {
   "display_name": "Python 3",
   "language": "python",
   "name": "python3"
  },
  "language_info": {
   "codemirror_mode": {
    "name": "ipython",
    "version": 3
   },
   "file_extension": ".py",
   "mimetype": "text/x-python",
   "name": "python",
   "nbconvert_exporter": "python",
   "pygments_lexer": "ipython3",
   "version": "3.8.5"
  }
 },
 "nbformat": 4,
 "nbformat_minor": 4
}
